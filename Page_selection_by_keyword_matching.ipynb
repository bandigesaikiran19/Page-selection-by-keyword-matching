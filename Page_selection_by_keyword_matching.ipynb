{
  "nbformat": 4,
  "nbformat_minor": 0,
  "metadata": {
    "colab": {
      "provenance": [],
      "collapsed_sections": []
    },
    "kernelspec": {
      "name": "python3",
      "display_name": "Python 3"
    },
    "language_info": {
      "name": "python"
    }
  },
  "cells": [
    {
      "cell_type": "markdown",
      "source": [
        "Group 2\n",
        "Page selection by Keyword matching"
      ],
      "metadata": {
        "id": "EAEClLyezFST"
      }
    },
    {
      "cell_type": "code",
      "source": [
        "#code by Sai Teja\n",
        "#sorting_of_pages() function takes dictionary as input and processes in descending\n",
        "#order, removes the values with zero strength adn return a maximum of 5 pages in \n",
        "#string format.\n",
        "\n",
        "                                                             \n",
        "import operator                                                                       #importing operator module\n",
        "\n",
        "def sorting_of_pages(dict1)->str:                                                     #function accepts dictionary \n",
        "  s1=''                                                                               \n",
        "  sorted_d = dict(sorted(dict1.items(), key=operator.itemgetter(1),reverse=True))     #sorting the dictionary in descending order of query strength\n",
        "  sorted_d={x:y for x,y in sorted_d.items() if y!=0}                                  #removing the query with zero strength value                                                \n",
        "  i=1                                                                                 #initializing a counter for 5 maximum pages\n",
        "\n",
        "  for item in sorted_d.keys():\n",
        "    if i>5:                                                                           #termination condition if no of pages is greater than 5\n",
        "      break\n",
        "    s1=s1+item+' '\n",
        "    i+=1\n",
        "\n",
        "  return(s1.strip())                                                                  #returning the string form of list with expected formatting\n"
      ],
      "metadata": {
        "id": "Lmxz_7xXPj19"
      },
      "execution_count": null,
      "outputs": []
    },
    {
      "cell_type": "code",
      "source": [
        "#Code by Rushikesh\n",
        "#search() function takes query list as input and matches with each page lists\n",
        "#if query matches search() function calculates the strength of query and stores\n",
        "#it in new dictionary and passes the value to sorting_of_pages() for formatting.\n",
        "\n",
        "def search(lst):\n",
        "  dict1={}                                            #empty dictionary to store the query page number and its strength\n",
        "\n",
        "  for key in PAGE_DICT.keys():                        #iterating over keys of Page\n",
        "    strength=0\n",
        "    list2=PAGE_DICT[key]                              #making a list of page values\n",
        "\n",
        "    for i in range(len(lst)):                         #iterating over length of query keywords\n",
        "      if lst[i] in list2:                             #check for the match of query in page\n",
        "        strength+=(8-i)*(8-list2.index(lst[i]))       #calculating the strength of query\n",
        "        \n",
        "    dict1[key]=strength\n",
        "  return(sorting_of_pages(dict1))                     #calling the function to sort and format query with strength\n",
        "\n",
        "\n",
        "\n"
      ],
      "metadata": {
        "id": "6HXGhREICFPu"
      },
      "execution_count": null,
      "outputs": []
    },
    {
      "cell_type": "code",
      "source": [
        "#code by Rushikesh\n",
        "#compute() function iterates over query dictionary and pasess the list of\n",
        "#query keywords to search() function for computing strength. \n",
        "\n",
        "def compute():\n",
        "  print(\"Query Pages\")\n",
        "  \n",
        "  for key in QUERY_DICT.keys():                 #iterating over query dictionary to fetch query keywords\n",
        "    print(key+\": \"+search(QUERY_DICT[key]))     #display output: Q1: P1 P3 P5\n",
        "\n",
        "\n"
      ],
      "metadata": {
        "id": "vdPJoyF7A20t"
      },
      "execution_count": null,
      "outputs": []
    },
    {
      "cell_type": "code",
      "source": [
        "#code by Rahul Tiwari\n",
        "#page() function accepts page keyword as String and counter as int and adds\n",
        "#it to the global PAGE_DICT dictionary\n",
        "\n",
        "def page(string:str,counter:int):           #function for adding string in page dictionary\n",
        "  string=string[2:]\n",
        "  list1=string.split()\n",
        "  PAGE_DICT['P'+str(counter)]=list1          #adding individual keywords as list"
      ],
      "metadata": {
        "id": "25EoFg6_5vcj"
      },
      "execution_count": null,
      "outputs": []
    },
    {
      "cell_type": "code",
      "source": [
        "#code by Rahul Tiwari\n",
        "#query() function accepts query keyword as String and counter as int and adds\n",
        "#it to the global QUERY_DICT dictionary\n",
        "\n",
        "def query(string,counter:int):              #function for adding string in query dictionary\n",
        "  string=string[2:]\n",
        "  list1=string.split()\n",
        "  QUERY_DICT['Q'+str(counter)]=list1        #adding individual keywords as list "
      ],
      "metadata": {
        "id": "JHrbavPH_yIQ"
      },
      "execution_count": null,
      "outputs": []
    },
    {
      "cell_type": "code",
      "source": [
        "#code by Sai Kiran\n",
        "#declaring global dictionary\n",
        "\n",
        "PAGE_DICT={}\n",
        "QUERY_DICT={}\n"
      ],
      "metadata": {
        "id": "d7iGY6Fi40pl"
      },
      "execution_count": null,
      "outputs": []
    },
    {
      "cell_type": "code",
      "execution_count": null,
      "metadata": {
        "id": "a3-UzT9duSb2"
      },
      "outputs": [],
      "source": [
        "#code by Sai Kiran\n",
        "#page_selection() is the driving function, this functions takes all the inputs \n",
        "#in prescribed and calls page() and query() function and calls compute() function\n",
        "#to move to the computation and display part of program\n",
        "\n",
        "def page_selection():                           #driver function\n",
        "      counter1=1                                #counter for Page \n",
        "      counter2=1                                #counter for Query\n",
        "\n",
        "      while(True):\n",
        "        n=input().lower()                        #user input as String\n",
        "\n",
        "        if n=='':\n",
        "          print(\"Blank input not accepted\")  \n",
        "\n",
        "        elif n[0] is 'p':\n",
        "          page(n,counter1)        #calling page function to add in Page dictionary\n",
        "          counter1+=1\n",
        "\n",
        "        elif n[0] is 'q':\n",
        "          query(n,counter2)       #calling query function to add in Query dictionary\n",
        "          counter2+=1\n",
        "\n",
        "        elif n[0] is 'e':         #exit control\n",
        "          break\n",
        "      compute()                   #calling function for computation"
      ]
    },
    {
      "cell_type": "code",
      "source": [
        "print(PAGE_DICT)\n",
        "print(QUERY_DICT)"
      ],
      "metadata": {
        "colab": {
          "base_uri": "https://localhost:8080/"
        },
        "id": "CwMyAlxB39uV",
        "outputId": "e9cffac5-af73-4fd4-d189-ef4769ecf989"
      },
      "execution_count": null,
      "outputs": [
        {
          "output_type": "stream",
          "name": "stdout",
          "text": [
            "{'P1': ['smalltalk', 'programming', 'computers'], 'P2': ['computers', 'programming'], 'P3': ['computers', 'smalltalk'], 'P4': ['fortran', 'programming'], 'P5': ['cobol', 'programming'], 'P6': ['programming']}\n",
            "{'Q1': ['smalltalk'], 'Q2': ['programming'], 'Q3': ['computers'], 'Q4': ['smalltalk', 'computers'], 'Q5': ['smalltalk', 'programming'], 'Q6': ['cooking', 'french']}\n"
          ]
        }
      ]
    },
    {
      "cell_type": "code",
      "source": [
        "page_selection()                  #start point for code"
      ],
      "metadata": {
        "colab": {
          "base_uri": "https://localhost:8080/"
        },
        "id": "irIPdIfF7ZJ1",
        "outputId": "05cd0f4b-728a-424e-8131-73af8fee5b9d"
      },
      "execution_count": null,
      "outputs": [
        {
          "output_type": "stream",
          "name": "stdout",
          "text": [
            "e\n",
            "Query Pages\n",
            "Q1: P1 P3\n",
            "Q2: P6 P1 P2 P4 P5\n",
            "Q3: P2 P3 P1\n",
            "Q4: P3 P1 P2\n",
            "Q5: P1 P3 P6 P2 P4\n",
            "Q6: \n"
          ]
        }
      ]
    },
    {
      "cell_type": "code",
      "source": [
        "P Smalltalk programming computers\n",
        "P computers programming\n",
        "P computers Smalltalk\n",
        "P FORTRAN programming\n",
        "P COBOL programming\n",
        "P programming\n",
        "Q Smalltalk\n",
        "Q programming\n",
        "Q computers\n",
        "Q Smalltalk computers\n",
        "Q Smalltalk programming\n",
        "Q cooking French\n",
        "E"
      ],
      "metadata": {
        "id": "33CAZSptNF1w"
      },
      "execution_count": null,
      "outputs": []
    },
    {
      "cell_type": "code",
      "source": [],
      "metadata": {
        "id": "ZnYuvO4z2lAN"
      },
      "execution_count": null,
      "outputs": []
    }
  ]
}